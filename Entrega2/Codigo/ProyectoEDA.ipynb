{
  "nbformat": 4,
  "nbformat_minor": 0,
  "metadata": {
    "colab": {
      "name": "ProyectoEDA.ipynb",
      "provenance": [],
      "toc_visible": true
    },
    "kernelspec": {
      "name": "python3",
      "display_name": "Python 3"
    },
    "language_info": {
      "name": "python"
    }
  },
  "cells": [
    {
      "cell_type": "code",
      "execution_count": null,
      "metadata": {
        "id": "d9WXl4eWgwPX"
      },
      "outputs": [],
      "source": [
        "pip install pydeck\n"
      ]
    },
    {
      "cell_type": "code",
      "source": [
        "import pandas as pd\n",
        "import pydeck as pdk\n",
        "import numpy as np\n",
        "import networkx as nx\n",
        "\n",
        "datos = pd.read_csv('https://raw.githubusercontent.com/mauriciotoro/ST0245-Eafit/master/proyecto/Datasets/calles_de_medellin_con_acoso.csv', on_bad_lines='skip',delimiter=';')\n"
      ],
      "metadata": {
        "id": "-AAET2Lxg9e6"
      },
      "execution_count": 4,
      "outputs": []
    },
    {
      "cell_type": "code",
      "source": [
        "#Lee el documento con network\n",
        "\n",
        "distancia = nx.from_pandas_edgelist(datos, source='origin', target='destination', edge_attr='length')\n",
        "acoso = nx.from_pandas_edgelist(datos, source='origin', target='destination', edge_attr='harassmentRisk')\n",
        "\n",
        "\n",
        "coordOrigen = input('Ingrese las coordenadas del origen')\n",
        "coordDestino = input('Ingrese las coordenadas del destino')\n",
        "\n",
        "\n",
        "\n"
      ],
      "metadata": {
        "colab": {
          "base_uri": "https://localhost:8080/"
        },
        "id": "j_rVi-o7hcJS",
        "outputId": "e6e7d3bd-bb6d-437e-80fc-3fb42ede492c"
      },
      "execution_count": 5,
      "outputs": [
        {
          "name": "stdout",
          "output_type": "stream",
          "text": [
            "Ingrese las coordenadas del origen(-75.5666527, 6.2091202)\n",
            "Ingrese las coordenadas del destino(-75.6114573, 6.2439294)\n"
          ]
        }
      ]
    },
    {
      "cell_type": "code",
      "source": [
        "#Encuentra la ruta más corta\n",
        "masCorto = nx.dijkstra_path(distancia, source=coordOrigen, target= coordDestino, weight=True)\n"
      ],
      "metadata": {
        "id": "k7IbN9aCqlFK"
      },
      "execution_count": 6,
      "outputs": []
    },
    {
      "cell_type": "code",
      "source": [
        "#ncuentra la ruta con menos acoso\n",
        "menosAcoso = nx.dijkstra_path(acoso, source=coordOrigen, target= coordDestino, weight=True)\n"
      ],
      "metadata": {
        "id": "ExIg5VW_q_yp"
      },
      "execution_count": 7,
      "outputs": []
    },
    {
      "cell_type": "code",
      "source": [
        "grafico = pd.DataFrame(masCorto,columns=['Calle']) #Se crea un data frame para separar las coordenadas\n",
        "\n",
        "grafico['Longitud']=grafico['Calle'].map(lambda x:x.split(',')[0])\n",
        "grafico['Latitud']=grafico['Calle'].map(lambda x:x.split(',')[1])\n",
        "\n",
        "del(grafico['Calle']) #Borra la columna que se llama Calle que no está separada\n",
        "\n",
        "eliminaParentesis=grafico.replace('\\(|\\)','',regex=True).astype(float)\n",
        "\n",
        "listaUne=list(zip(eliminaParentesis.Longitud, eliminaParentesis.Latitud))\n"
      ],
      "metadata": {
        "id": "JOwE-dC_sDUX"
      },
      "execution_count": 8,
      "outputs": []
    },
    {
      "cell_type": "code",
      "source": [
        "grafico2 = pd.DataFrame(menosAcoso,columns=['Calle']) #Se crea un data frame para separar las coordenadas\n",
        "\n",
        "grafico2['Longitud']=grafico2['Calle'].map(lambda x:x.split(',')[0])\n",
        "grafico2['Latitud']=grafico2['Calle'].map(lambda x:x.split(',')[1])\n",
        "\n",
        "del(grafico2['Calle']) #Borra la columna que se llama Calle que no está separada\n",
        "\n",
        "eliminaParentesis2=grafico2.replace('\\(|\\)','',regex=True).astype(float)\n",
        "\n",
        "listaUne2=list(zip(eliminaParentesis2.Longitud, eliminaParentesis2.Latitud))"
      ],
      "metadata": {
        "id": "Ov_YM-pWzaKC"
      },
      "execution_count": 9,
      "outputs": []
    },
    {
      "cell_type": "code",
      "source": [
        "listaEnDataFrame = [listaUne]\n",
        "color = [\"#33FFE2\"]\n",
        "listaFinal = list(zip(color,listaEnDataFrame))\n",
        "\n"
      ],
      "metadata": {
        "id": "Bs6xE16fuAeC"
      },
      "execution_count": null,
      "outputs": []
    },
    {
      "cell_type": "code",
      "source": [
        "listaEnDataFrame2 = [listaUne2]\n",
        "color2 = [\"#C23011\"]\n",
        "listaFinal2 = list(zip(color2,listaEnDataFrame2))\n"
      ],
      "metadata": {
        "id": "nlX6auXFzjNw"
      },
      "execution_count": 11,
      "outputs": []
    },
    {
      "cell_type": "code",
      "source": [
        "dfUltimo = pd.DataFrame(listaFinal, columns=['Color', 'Ruta'])\n",
        "\n",
        "\n"
      ],
      "metadata": {
        "id": "0L5CZ2P_u6vQ"
      },
      "execution_count": null,
      "outputs": []
    },
    {
      "cell_type": "code",
      "source": [
        "dfUltimo2 = pd.DataFrame(listaFinal2, columns=['Color2', 'Ruta2'])\n",
        "\n",
        "\n"
      ],
      "metadata": {
        "id": "EEbwegjQztcT"
      },
      "execution_count": 20,
      "outputs": []
    },
    {
      "cell_type": "code",
      "source": [
        "def hex_to_rgb(h):\n",
        "    h = h.lstrip(\"#\")\n",
        "    return tuple(int(h[i : i + 2], 16) for i in (0, 2, 4))\n",
        "\n",
        "\n",
        "dfUltimo[\"Color\"] = dfUltimo[\"Color\"].apply(hex_to_rgb)\n",
        "\n",
        "\n",
        "\n",
        "view_state = pdk.ViewState(latitude=6.217, longitude= -75.567, zoom=15)\n",
        "\n",
        "layer = pdk.Layer(\n",
        "    type=\"PathLayer\",\n",
        "    data=dfUltimo,\n",
        "    pickable=True,\n",
        "    get_color=\"Color\",\n",
        "    width_scale=2,\n",
        "    width_min_pixels=2,\n",
        "    get_path=\"Ruta\",\n",
        "    get_width=5,\n",
        ")\n",
        "\n",
        "r = pdk.Deck(layers=[layer], initial_view_state=view_state)\n",
        "r.to_html(\"path_layer.html\")"
      ],
      "metadata": {
        "id": "4grYHrvkvfmp"
      },
      "execution_count": null,
      "outputs": []
    },
    {
      "cell_type": "code",
      "source": [
        "def hex_to_rgb(h):\n",
        "    h = h.lstrip(\"#\")\n",
        "    return tuple(int(h[i : i + 2], 16) for i in (0, 2, 4))\n",
        "\n",
        "\n",
        "dfUltimo2[\"Color2\"] = dfUltimo2[\"Color2\"].apply(hex_to_rgb)\n",
        "\n",
        "\n",
        "\n",
        "view_state = pdk.ViewState(latitude=6.217, longitude= -75.567, zoom=15)\n",
        "\n",
        "layer = pdk.Layer(\n",
        "    type=\"PathLayer\",\n",
        "    data=dfUltimo2,\n",
        "    pickable=True,\n",
        "    get_color=\"Color2\",\n",
        "    width_scale=2,\n",
        "    width_min_pixels=2,\n",
        "    get_path=\"Ruta2\",\n",
        "    get_width=5,\n",
        ")\n",
        "\n",
        "r = pdk.Deck(layers=[layer], initial_view_state=view_state)\n",
        "r.to_html(\"path_layer.html\")"
      ],
      "metadata": {
        "colab": {
          "base_uri": "https://localhost:8080/",
          "height": 1000
        },
        "id": "w-cW80qt0EXb",
        "outputId": "004e7e9e-dc71-4ac9-85c9-52967d7d4518"
      },
      "execution_count": 21,
      "outputs": [
        {
          "output_type": "display_data",
          "data": {
            "text/plain": [
              "<IPython.core.display.Javascript object>"
            ],
            "application/javascript": [
              "google.colab.output.setIframeHeight(500, true, {minHeight: 500})"
            ]
          },
          "metadata": {}
        },
        {
          "output_type": "display_data",
          "data": {
            "text/plain": [
              "<IPython.core.display.HTML object>"
            ],
            "text/html": [
              "<!DOCTYPE html>\n",
              "<html>\n",
              "  <head>\n",
              "    <meta http-equiv=\"content-type\" content=\"text/html; charset=UTF-8\" />\n",
              "    <title>pydeck</title>\n",
              "        <script src=\"https://api.tiles.mapbox.com/mapbox-gl-js/v1.13.0/mapbox-gl.js\"></script>\n",
              "        <link rel=\"stylesheet\" href=\"https://maxcdn.bootstrapcdn.com/bootstrap/3.2.0/css/bootstrap-theme.min.css\" />\n",
              "    <link rel=\"stylesheet\" href=\"https://maxcdn.bootstrapcdn.com/font-awesome/4.6.3/css/font-awesome.min.css\" />\n",
              "    <script src='https://cdn.jsdelivr.net/npm/@deck.gl/jupyter-widget@~8.5.*/dist/index.js'></script>\n",
              "    <style>\n",
              "    body {\n",
              "  margin: 0;\n",
              "  padding: 0;\n",
              "  overflow: hidden;\n",
              "}\n",
              "\n",
              "#deck-map-container {\n",
              "  width: 100%;\n",
              "  height: 100%;\n",
              "  background-color: black;\n",
              "}\n",
              "\n",
              "#map {\n",
              "  pointer-events: none;\n",
              "  height: 100%;\n",
              "  width: 100%;\n",
              "  position: absolute;\n",
              "  z-index: 1;\n",
              "}\n",
              "\n",
              "#deckgl-overlay {\n",
              "  z-index: 2;\n",
              "  background: none;\n",
              "}\n",
              "\n",
              "#deck-map-wrapper {\n",
              "  width: 100%;\n",
              "  height: 100%;\n",
              "}\n",
              "\n",
              "#deck-container {\n",
              "  width: 100vw;\n",
              "  height: 100vh;\n",
              "}\n",
              "    </style>\n",
              "  </head>\n",
              "  <body>\n",
              "    <div id=\"deck-container\">\n",
              "    </div>\n",
              "  </body>\n",
              "  <script>\n",
              "    const jsonInput = {\"initialViewState\": {\"latitude\": 6.217, \"longitude\": -75.567, \"zoom\": 15}, \"layers\": [{\"@@type\": \"PathLayer\", \"data\": [{\"Color2\": [194, 48, 17], \"Ruta2\": [[-75.5666527, 6.2091202], [-75.5666155, 6.2091985], [-75.5663399, 6.2099192], [-75.5671587, 6.2102004], [-75.5677178, 6.2104026], [-75.5684309, 6.210675], [-75.5684921, 6.2106979], [-75.5689008, 6.2108414], [-75.569105, 6.2109221], [-75.5709247, 6.2118269], [-75.5716168, 6.2121028], [-75.5720978, 6.2122939], [-75.5731302, 6.2128178], [-75.5738997, 6.2128812], [-75.574197, 6.2129348], [-75.5763022, 6.2133439], [-75.5774552, 6.215155], [-75.5775952, 6.2139129], [-75.5779873, 6.2105924], [-75.5783379, 6.2081192], [-75.5783805, 6.2089674], [-75.576362, 6.2232492], [-75.5756801, 6.2282926], [-75.5752954, 6.2310752], [-75.5750571, 6.2335577], [-75.5752047, 6.2340849], [-75.5778256, 6.2418455], [-75.5791903, 6.2457812], [-75.5780392, 6.2469784], [-75.5780024, 6.2470787], [-75.5779688, 6.2471707], [-75.5832806, 6.2485812], [-75.5832911, 6.2485104], [-75.5834504, 6.2485213], [-75.5842855, 6.2486289], [-75.5858908, 6.2488284], [-75.5867636, 6.2489218], [-75.5867501, 6.2490746], [-75.5886983, 6.2492863], [-75.5887716, 6.2492941], [-75.5901926, 6.2494641], [-75.5912269, 6.2495879], [-75.5922804, 6.2496993], [-75.5933985, 6.2498375], [-75.5934652, 6.2498409], [-75.5946139, 6.2499689], [-75.5958577, 6.2501212], [-75.5968939, 6.250186], [-75.5975774, 6.2501864], [-75.5996527, 6.2501763], [-75.6007961, 6.250525], [-75.6016706, 6.2506328], [-75.6020487, 6.2507265], [-75.6020958, 6.250777], [-75.60247, 6.2507546], [-75.6025191, 6.2504655], [-75.6034409, 6.250612], [-75.6045275, 6.2506549], [-75.6047823, 6.2498382], [-75.6051595, 6.2486372], [-75.6053853, 6.2479178], [-75.6055568, 6.2471675], [-75.6059809, 6.2457554], [-75.6060111, 6.2456743], [-75.6067775, 6.2442031], [-75.6072797, 6.2442646], [-75.6077962, 6.2442213], [-75.6079753, 6.2441871], [-75.6088717, 6.2438884], [-75.6091631, 6.2437967], [-75.6097912, 6.2436881], [-75.6103783, 6.2437564], [-75.6109107, 6.2438463], [-75.6114573, 6.2439294]]}], \"getColor\": \"@@=Color2\", \"getPath\": \"@@=Ruta2\", \"getWidth\": 5, \"id\": \"a1375449-0846-4f86-aeea-8e6da6296e52\", \"pickable\": true, \"widthMinPixels\": 2, \"widthScale\": 2}], \"mapProvider\": \"carto\", \"mapStyle\": \"https://basemaps.cartocdn.com/gl/dark-matter-gl-style/style.json\", \"views\": [{\"@@type\": \"MapView\", \"controller\": true}]};\n",
              "    const tooltip = true;\n",
              "    const customLibraries = null;\n",
              "\n",
              "    const deckInstance = createDeck({\n",
              "                  container: document.getElementById('deck-container'),\n",
              "      jsonInput,\n",
              "      tooltip,\n",
              "      customLibraries\n",
              "    });\n",
              "\n",
              "  </script>\n",
              "</html>"
            ]
          },
          "metadata": {}
        },
        {
          "output_type": "execute_result",
          "data": {
            "text/plain": [
              "'<!DOCTYPE html>\\n<html>\\n  <head>\\n    <meta http-equiv=\"content-type\" content=\"text/html; charset=UTF-8\" />\\n    <title>pydeck</title>\\n        <script src=\"https://api.tiles.mapbox.com/mapbox-gl-js/v1.13.0/mapbox-gl.js\"></script>\\n        <link rel=\"stylesheet\" href=\"https://maxcdn.bootstrapcdn.com/bootstrap/3.2.0/css/bootstrap-theme.min.css\" />\\n    <link rel=\"stylesheet\" href=\"https://maxcdn.bootstrapcdn.com/font-awesome/4.6.3/css/font-awesome.min.css\" />\\n    <script src=\\'https://cdn.jsdelivr.net/npm/@deck.gl/jupyter-widget@~8.5.*/dist/index.js\\'></script>\\n    <style>\\n    body {\\n  margin: 0;\\n  padding: 0;\\n  overflow: hidden;\\n}\\n\\n#deck-map-container {\\n  width: 100%;\\n  height: 100%;\\n  background-color: black;\\n}\\n\\n#map {\\n  pointer-events: none;\\n  height: 100%;\\n  width: 100%;\\n  position: absolute;\\n  z-index: 1;\\n}\\n\\n#deckgl-overlay {\\n  z-index: 2;\\n  background: none;\\n}\\n\\n#deck-map-wrapper {\\n  width: 100%;\\n  height: 100%;\\n}\\n\\n#deck-container {\\n  width: 100vw;\\n  height: 100vh;\\n}\\n    </style>\\n  </head>\\n  <body>\\n    <div id=\"deck-container\">\\n    </div>\\n  </body>\\n  <script>\\n    const jsonInput = {\"initialViewState\": {\"latitude\": 6.217, \"longitude\": -75.567, \"zoom\": 15}, \"layers\": [{\"@@type\": \"PathLayer\", \"data\": [{\"Color2\": [194, 48, 17], \"Ruta2\": [[-75.5666527, 6.2091202], [-75.5666155, 6.2091985], [-75.5663399, 6.2099192], [-75.5671587, 6.2102004], [-75.5677178, 6.2104026], [-75.5684309, 6.210675], [-75.5684921, 6.2106979], [-75.5689008, 6.2108414], [-75.569105, 6.2109221], [-75.5709247, 6.2118269], [-75.5716168, 6.2121028], [-75.5720978, 6.2122939], [-75.5731302, 6.2128178], [-75.5738997, 6.2128812], [-75.574197, 6.2129348], [-75.5763022, 6.2133439], [-75.5774552, 6.215155], [-75.5775952, 6.2139129], [-75.5779873, 6.2105924], [-75.5783379, 6.2081192], [-75.5783805, 6.2089674], [-75.576362, 6.2232492], [-75.5756801, 6.2282926], [-75.5752954, 6.2310752], [-75.5750571, 6.2335577], [-75.5752047, 6.2340849], [-75.5778256, 6.2418455], [-75.5791903, 6.2457812], [-75.5780392, 6.2469784], [-75.5780024, 6.2470787], [-75.5779688, 6.2471707], [-75.5832806, 6.2485812], [-75.5832911, 6.2485104], [-75.5834504, 6.2485213], [-75.5842855, 6.2486289], [-75.5858908, 6.2488284], [-75.5867636, 6.2489218], [-75.5867501, 6.2490746], [-75.5886983, 6.2492863], [-75.5887716, 6.2492941], [-75.5901926, 6.2494641], [-75.5912269, 6.2495879], [-75.5922804, 6.2496993], [-75.5933985, 6.2498375], [-75.5934652, 6.2498409], [-75.5946139, 6.2499689], [-75.5958577, 6.2501212], [-75.5968939, 6.250186], [-75.5975774, 6.2501864], [-75.5996527, 6.2501763], [-75.6007961, 6.250525], [-75.6016706, 6.2506328], [-75.6020487, 6.2507265], [-75.6020958, 6.250777], [-75.60247, 6.2507546], [-75.6025191, 6.2504655], [-75.6034409, 6.250612], [-75.6045275, 6.2506549], [-75.6047823, 6.2498382], [-75.6051595, 6.2486372], [-75.6053853, 6.2479178], [-75.6055568, 6.2471675], [-75.6059809, 6.2457554], [-75.6060111, 6.2456743], [-75.6067775, 6.2442031], [-75.6072797, 6.2442646], [-75.6077962, 6.2442213], [-75.6079753, 6.2441871], [-75.6088717, 6.2438884], [-75.6091631, 6.2437967], [-75.6097912, 6.2436881], [-75.6103783, 6.2437564], [-75.6109107, 6.2438463], [-75.6114573, 6.2439294]]}], \"getColor\": \"@@=Color2\", \"getPath\": \"@@=Ruta2\", \"getWidth\": 5, \"id\": \"a1375449-0846-4f86-aeea-8e6da6296e52\", \"pickable\": true, \"widthMinPixels\": 2, \"widthScale\": 2}], \"mapProvider\": \"carto\", \"mapStyle\": \"https://basemaps.cartocdn.com/gl/dark-matter-gl-style/style.json\", \"views\": [{\"@@type\": \"MapView\", \"controller\": true}]};\\n    const tooltip = true;\\n    const customLibraries = null;\\n\\n    const deckInstance = createDeck({\\n                  container: document.getElementById(\\'deck-container\\'),\\n      jsonInput,\\n      tooltip,\\n      customLibraries\\n    });\\n\\n  </script>\\n</html>'"
            ],
            "application/vnd.google.colaboratory.intrinsic+json": {
              "type": "string"
            }
          },
          "metadata": {},
          "execution_count": 21
        }
      ]
    }
  ]
}